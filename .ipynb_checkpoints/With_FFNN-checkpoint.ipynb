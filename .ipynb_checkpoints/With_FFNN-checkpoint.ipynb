{
 "cells": [
  {
   "cell_type": "markdown",
   "metadata": {},
   "source": [
    "# Binary Addition\n",
    "> 8-bit Binary addition using Feed Forward Neural Networks. \n",
    "\n",
    "### Rules of Binary Addition\n",
    "![](addition_table.jpg)\n",
    "\n",
    "> Out network tries to learn these rules\n",
    "\n",
    "### Feed Forward Neural Network for Binary Addition\n",
    "\n",
    "![](FFNN.jpg)"
   ]
  },
  {
   "cell_type": "code",
   "execution_count": 38,
   "metadata": {
    "collapsed": true
   },
   "outputs": [],
   "source": [
    "import copy, numpy as np\n",
    "np.random.seed(0)"
   ]
  },
  {
   "cell_type": "markdown",
   "metadata": {},
   "source": [
    "### Required Functions for Implementing Neural Networks"
   ]
  },
  {
   "cell_type": "code",
   "execution_count": 39,
   "metadata": {
    "collapsed": true
   },
   "outputs": [],
   "source": [
    "def sigmoid(x):\n",
    "    output = 1/(1+np.exp(-x))\n",
    "    return output"
   ]
  },
  {
   "cell_type": "code",
   "execution_count": 40,
   "metadata": {
    "collapsed": true
   },
   "outputs": [],
   "source": [
    "def sigmoid_derivative(activation):\n",
    "    return activation*(1-activation)"
   ]
  },
  {
   "cell_type": "code",
   "execution_count": 41,
   "metadata": {
    "collapsed": true
   },
   "outputs": [],
   "source": [
    "def add_binary_nums(x,y):\n",
    "        x=bin(x)[2:]\n",
    "        y=bin(y)[2:]\n",
    "        max_len = max(len(x), len(y))\n",
    "        flag = False\n",
    "        x = x.zfill(max_len)\n",
    "        y = y.zfill(max_len)\n",
    "\n",
    "        result = ''\n",
    "        carry = 0\n",
    "\n",
    "        for i in range(max_len-1,-1,-1):\n",
    "            r = carry\n",
    "            r += 1 if x[i] == '1' else 0\n",
    "            r += 1 if y[i] == '1' else 0\n",
    "            result = ('1' if r % 2 == 1 else '0') + result\n",
    "            carry = 0 if r < 2 else 1       \n",
    "\n",
    "        if carry !=0 : \n",
    "            flag=True\n",
    "            result = '1' + result\n",
    "\n",
    "        return flag"
   ]
  },
  {
   "cell_type": "markdown",
   "metadata": {},
   "source": [
    "### Creating a mapping of numbers and their binary equivalents"
   ]
  },
  {
   "cell_type": "code",
   "execution_count": 42,
   "metadata": {},
   "outputs": [],
   "source": [
    "int2binary = {}\n",
    "binary_dim = 8\n",
    "\n",
    "largest_number = pow(2,binary_dim)\n",
    "binary = np.unpackbits(\n",
    "    np.array([range(largest_number)],dtype=np.uint8).T,axis=1)\n",
    "for i in range(largest_number):\n",
    "    int2binary[i] = np.reshape(binary[i],(1,8))"
   ]
  },
  {
   "cell_type": "markdown",
   "metadata": {},
   "source": [
    "### Hyperparameters"
   ]
  },
  {
   "cell_type": "code",
   "execution_count": 43,
   "metadata": {
    "collapsed": true
   },
   "outputs": [],
   "source": [
    "alpha=0.5\n",
    "in_dim =16\n",
    "hidden_dim = 48\n",
    "out_dim = 8"
   ]
  },
  {
   "cell_type": "markdown",
   "metadata": {},
   "source": [
    "### Our Weights"
   ]
  },
  {
   "cell_type": "code",
   "execution_count": 44,
   "metadata": {},
   "outputs": [],
   "source": [
    "Wx = 2*np.random.random((in_dim,hidden_dim))-1\n",
    "bx = 2*np.random.random((hidden_dim,1))-1\n",
    "Wy = 2*np.random.random((hidden_dim, out_dim))-1\n",
    "by = 2*np.random.random((out_dim,1))-1"
   ]
  },
  {
   "cell_type": "markdown",
   "metadata": {},
   "source": [
    "### Preparing our data \n",
    "\n",
    "- Choose two random numbers 'a_int' and 'b_int'\n",
    "- Find their binary representations\n",
    "- Add them and find binary representation of the sum\n",
    "\n",
    "**And our data is ready**\n",
    "\n",
    "###### Now concatenate the binary representations and feed it to the network "
   ]
  },
  {
   "cell_type": "code",
   "execution_count": 45,
   "metadata": {},
   "outputs": [],
   "source": [
    "\n",
    "a_int = np.random.randint(largest_number/2)\n",
    "a = int2binary[a_int] # binary encoding\n",
    "\n",
    "b_int = np.random.randint(largest_number/2) \n",
    "b = int2binary[b_int]\n",
    "ab = np.concatenate((a,b),axis=1)\n",
    "\n",
    "c_int = a_int + b_int\n",
    "c = int2binary[c_int]\n",
    "pred = np.zeros_like(c)\n",
    "\n",
    "\n"
   ]
  },
  {
   "cell_type": "markdown",
   "metadata": {},
   "source": [
    "### Forward Propagation"
   ]
  },
  {
   "cell_type": "code",
   "execution_count": 46,
   "metadata": {},
   "outputs": [],
   "source": [
    "Zx = np.matmul(ab,Wx)+bx.T\n",
    "Ax = 1/(1+np.exp(-Zx))\n",
    "Zy = np.matmul(Ax,Wy)+by.T\n",
    "Ay = 1/(1+np.exp(-Zy))"
   ]
  },
  {
   "cell_type": "markdown",
   "metadata": {},
   "source": [
    "### Backpropagating the loss"
   ]
  },
  {
   "cell_type": "code",
   "execution_count": 47,
   "metadata": {
    "collapsed": true
   },
   "outputs": [],
   "source": [
    "loss = (c - Ay)**2\n",
    "dAy = 2*(Ay-c)\n",
    "dZy = dAy*Ay*(1-Ay)\n",
    "dWy = np.matmul(Ax.T,dZy)\n",
    "dBy = copy.deepcopy(dZy)\n",
    "dAx = np.matmul(dZy,Wy.T)\n",
    "dZx = dAx*Ax*(1-Ax)\n",
    "dWx = ab.T*dZx\n",
    "dBx = dZx"
   ]
  },
  {
   "cell_type": "markdown",
   "metadata": {},
   "source": [
    "### Training the Network for 75000 samples"
   ]
  },
  {
   "cell_type": "code",
   "execution_count": 48,
   "metadata": {},
   "outputs": [],
   "source": [
    "correct = 0\n",
    "incorrect=0\n",
    "has_carry = 0\n",
    "alpha_arr = [1,1.0,1]\n",
    "for k in range(len(alpha_arr)):\n",
    "    np.random.seed(2)\n",
    "    for j in range(25000):\n",
    "        alpha = alpha_arr[k]\n",
    "        a_int = np.random.randint(largest_number/2)\n",
    "        a = int2binary[a_int]\n",
    "\n",
    "        b_int = np.random.randint(largest_number/2)\n",
    "        b = int2binary[b_int]\n",
    "        ab = np.concatenate((a,b),axis=1)\n",
    "        c_int = a_int + b_int\n",
    "        c = int2binary[c_int]\n",
    "        pred = np.zeros_like(c)\n",
    "        Zx = np.matmul(ab,Wx)+bx.T\n",
    "        Ax = 1/(1+np.exp(-Zx))\n",
    "        Zy = np.matmul(Ax,Wy)+by.T\n",
    "        Ay = 1/(1+np.exp(-Zy))\n",
    "        loss = (c - Ay)**2\n",
    "        dAy = 2*(Ay-c)\n",
    "        dZy = dAy*Ay*(1-Ay)\n",
    "        dWy = np.matmul(Ax.T,dZy)\n",
    "        dBy = copy.deepcopy(dZy)\n",
    "        dAx = np.matmul(dZy,Wy.T)\n",
    "        dZx = dAx*Ax*(1-Ax)\n",
    "        dWx = ab.T*dZx\n",
    "        dBx = dZx\n",
    "        Wx = Wx-(alpha*dWx)\n",
    "        Wy = Wy-(alpha*dWy)\n",
    "        bx = bx-(alpha*bx)\n",
    "        by = by-(alpha*by)\n",
    "\n",
    "        pred = np.copy(Ay)\n",
    "        pred = np.round(pred)\n",
    "        \n",
    "        if np.array_equal(c,pred):\n",
    "            correct += 1\n",
    "        elif not np.array_equal(c,pred):\n",
    "            incorrect +=1\n",
    "            if add_binary_nums(a_int,b_int) :\n",
    "                has_carry += 1\n",
    "        "
   ]
  },
  {
   "cell_type": "markdown",
   "metadata": {},
   "source": [
    "### Accuracy"
   ]
  },
  {
   "cell_type": "code",
   "execution_count": 49,
   "metadata": {},
   "outputs": [
    {
     "data": {
      "text/plain": [
       "65.78399999999999"
      ]
     },
     "execution_count": 49,
     "metadata": {},
     "output_type": "execute_result"
    }
   ],
   "source": [
    "(correct/75000)*100"
   ]
  },
  {
   "cell_type": "markdown",
   "metadata": {},
   "source": [
    "### Number of samples that have an error and involve a carry term in their binary addition"
   ]
  },
  {
   "cell_type": "code",
   "execution_count": 50,
   "metadata": {},
   "outputs": [
    {
     "data": {
      "text/plain": [
       "16665"
      ]
     },
     "execution_count": 50,
     "metadata": {},
     "output_type": "execute_result"
    }
   ],
   "source": [
    "has_carry"
   ]
  }
 ],
 "metadata": {
  "kernelspec": {
   "display_name": "Python 3",
   "language": "python",
   "name": "python3"
  },
  "language_info": {
   "codemirror_mode": {
    "name": "ipython",
    "version": 3
   },
   "file_extension": ".py",
   "mimetype": "text/x-python",
   "name": "python",
   "nbconvert_exporter": "python",
   "pygments_lexer": "ipython3",
   "version": "3.6.1"
  }
 },
 "nbformat": 4,
 "nbformat_minor": 2
}
