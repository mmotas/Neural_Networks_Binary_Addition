{
 "cells": [
  {
   "cell_type": "code",
   "execution_count": 1,
   "metadata": {
    "collapsed": true
   },
   "outputs": [],
   "source": [
    "def add_binary_nums(x,y):\n",
    "        x=bin(x)[2:]\n",
    "        y=bin(y)[2:]\n",
    "        max_len = max(len(x), len(y))\n",
    "        flag = False\n",
    "        x = x.zfill(max_len)\n",
    "        y = y.zfill(max_len)\n",
    "\n",
    "        result = ''\n",
    "        carry = 0\n",
    "\n",
    "        for i in range(max_len-1,-1,-1):\n",
    "            r = carry\n",
    "            r += 1 if x[i] == '1' else 0\n",
    "            r += 1 if y[i] == '1' else 0\n",
    "            result = ('1' if r % 2 == 1 else '0') + result\n",
    "            carry = 0 if r < 2 else 1       \n",
    "\n",
    "        if carry !=0 : \n",
    "            flag=True\n",
    "            result = '1' + result\n",
    "\n",
    "        return flag"
   ]
  },
  {
   "cell_type": "code",
   "execution_count": 2,
   "metadata": {
    "collapsed": true
   },
   "outputs": [],
   "source": [
    "has_carry = 0\n",
    "def sigmoid(x):\n",
    "    output = 1/(1+np.exp(-x))\n",
    "    return output"
   ]
  },
  {
   "cell_type": "code",
   "execution_count": 3,
   "metadata": {
    "collapsed": true
   },
   "outputs": [],
   "source": [
    "import copy\n",
    "import numpy as np"
   ]
  },
  {
   "cell_type": "code",
   "execution_count": 4,
   "metadata": {
    "collapsed": true
   },
   "outputs": [],
   "source": [
    "correct = 0\n",
    "int2binary = {}\n",
    "binary_dim = 8"
   ]
  },
  {
   "cell_type": "code",
   "execution_count": 5,
   "metadata": {
    "collapsed": true
   },
   "outputs": [],
   "source": [
    "largest_number = pow(2,binary_dim)\n",
    "binary = np.unpackbits(\n",
    "    np.array([range(largest_number)],dtype=np.uint8).T,axis=1)\n",
    "for i in range(largest_number):\n",
    "    int2binary[i] = binary[i]"
   ]
  },
  {
   "cell_type": "code",
   "execution_count": 6,
   "metadata": {
    "collapsed": true
   },
   "outputs": [],
   "source": [
    "alpha = 0.1\n",
    "input_dim = 2\n",
    "hidden_dim = 16\n",
    "output_dim = 1"
   ]
  },
  {
   "cell_type": "code",
   "execution_count": 7,
   "metadata": {
    "collapsed": true
   },
   "outputs": [],
   "source": [
    "Wx = 2*np.random.random((input_dim,hidden_dim)) - 1\n",
    "Wy = 2*np.random.random((hidden_dim,output_dim)) - 1\n",
    "Wr = 2*np.random.random((hidden_dim,hidden_dim)) - 1\n",
    "Bx = 2*np.random.random((hidden_dim,1)) - 1\n",
    "By = 2*np.random.random((1,1)) - 1"
   ]
  },
  {
   "cell_type": "code",
   "execution_count": 8,
   "metadata": {},
   "outputs": [
    {
     "ename": "ValueError",
     "evalue": "shapes (16,1) and (16,16) not aligned: 1 (dim 1) != 16 (dim 0)",
     "output_type": "error",
     "traceback": [
      "\u001b[1;31m---------------------------------------------------------------------------\u001b[0m",
      "\u001b[1;31mValueError\u001b[0m                                Traceback (most recent call last)",
      "\u001b[1;32m<ipython-input-8-a1ae59fce661>\u001b[0m in \u001b[0;36m<module>\u001b[1;34m()\u001b[0m\n\u001b[0;32m     24\u001b[0m         \u001b[0my\u001b[0m \u001b[1;33m=\u001b[0m \u001b[0mnp\u001b[0m\u001b[1;33m.\u001b[0m\u001b[0marray\u001b[0m\u001b[1;33m(\u001b[0m\u001b[1;33m[\u001b[0m\u001b[1;33m[\u001b[0m\u001b[0mc\u001b[0m\u001b[1;33m[\u001b[0m\u001b[0mbinary_dim\u001b[0m \u001b[1;33m-\u001b[0m \u001b[0mposition\u001b[0m \u001b[1;33m-\u001b[0m \u001b[1;36m1\u001b[0m\u001b[1;33m]\u001b[0m\u001b[1;33m]\u001b[0m\u001b[1;33m]\u001b[0m\u001b[1;33m)\u001b[0m\u001b[1;33m.\u001b[0m\u001b[0mT\u001b[0m\u001b[1;33m\u001b[0m\u001b[0m\n\u001b[0;32m     25\u001b[0m \u001b[1;33m\u001b[0m\u001b[0m\n\u001b[1;32m---> 26\u001b[1;33m         \u001b[0mht\u001b[0m \u001b[1;33m=\u001b[0m \u001b[0msigmoid\u001b[0m\u001b[1;33m(\u001b[0m\u001b[0mnp\u001b[0m\u001b[1;33m.\u001b[0m\u001b[0mdot\u001b[0m\u001b[1;33m(\u001b[0m\u001b[0mX\u001b[0m\u001b[1;33m,\u001b[0m\u001b[0mWx\u001b[0m\u001b[1;33m)\u001b[0m \u001b[1;33m+\u001b[0m \u001b[0mnp\u001b[0m\u001b[1;33m.\u001b[0m\u001b[0mdot\u001b[0m\u001b[1;33m(\u001b[0m\u001b[0mhts\u001b[0m\u001b[1;33m[\u001b[0m\u001b[1;33m-\u001b[0m\u001b[1;36m1\u001b[0m\u001b[1;33m]\u001b[0m\u001b[1;33m,\u001b[0m\u001b[0mWr\u001b[0m\u001b[1;33m)\u001b[0m \u001b[1;33m+\u001b[0m \u001b[0mBx\u001b[0m\u001b[1;33m)\u001b[0m\u001b[1;33m\u001b[0m\u001b[0m\n\u001b[0m\u001b[0;32m     27\u001b[0m \u001b[1;33m\u001b[0m\u001b[0m\n",
      "\u001b[1;31mValueError\u001b[0m: shapes (16,1) and (16,16) not aligned: 1 (dim 1) != 16 (dim 0)"
     ]
    }
   ],
   "source": [
    "for j in range(100000):\n",
    "    \n",
    "    # generate a simple addition problem (a + b = c)\n",
    "    a_int = np.random.randint(largest_number/2) # int version\n",
    "    a = int2binary[a_int] # binary encoding\n",
    "\n",
    "    b_int = np.random.randint(largest_number/2) # int version\n",
    "    b = int2binary[b_int] # binary encoding\n",
    "\n",
    "    # true answer\n",
    "    c_int = a_int + b_int\n",
    "    c = int2binary[c_int]\n",
    "    \n",
    "    # where we'll store our best guess (binary encoded)\n",
    "    d = np.zeros_like(c)\n",
    "\n",
    "    hts = [np.zeros((16,1))]\n",
    "    yts = []\n",
    "    \n",
    "    for position in range(binary_dim):\n",
    "        \n",
    "        # generate input and output\n",
    "        X = np.array([[a[binary_dim - position - 1],b[binary_dim - position - 1]]])\n",
    "        y = np.array([[c[binary_dim - position - 1]]]).T\n",
    "        \n",
    "        ht = sigmoid(np.dot(X,Wx) + np.dot(hts[-1],Wr) + Bx)\n",
    "        "
   ]
  },
  {
   "cell_type": "code",
   "execution_count": 9,
   "metadata": {
    "collapsed": true
   },
   "outputs": [],
   "source": [
    "a_int = np.random.randint(largest_number/2) # int version\n",
    "a = int2binary[a_int] # binary encoding\n",
    "\n",
    "b_int = np.random.randint(largest_number/2) # int version\n",
    "b = int2binary[b_int] # binary encoding\n",
    "\n",
    "# true answer\n",
    "c_int = a_int + b_int\n",
    "c = int2binary[c_int]\n",
    "\n",
    "# where we'll store our best guess (binary encoded)\n",
    "d = np.zeros_like(c)\n",
    "\n",
    "hts = [np.zeros((16,1))]\n",
    "yts = []\n",
    "\n",
    "for position in range(binary_dim):\n",
    "\n",
    "    # generate input and output\n",
    "    X = np.array([[a[binary_dim - position - 1],b[binary_dim - position - 1]]])\n",
    "    y = np.array([[c[binary_dim - position - 1]]]).T\n",
    "    #forward prop\n",
    "    ht = sigmoid(np.matmul(X,Wx) + np.matmul(hts[-1].T,Wr) + Bx.T)\n",
    "    yt = sigmoid(np.matmul(ht,Wy)+By)\n",
    "    ht = ht.T\n",
    "    \n",
    "    dyt = 2*(yt-y)\n",
    "    dzt = dyt*yt*(1-yt)\n",
    "    dWy = dzt*ht\n",
    "    dBy = copy.deepcopy(dzt)\n",
    "    dht = dzt*Wy\n",
    "    dvt = dht * ht * (1-ht)\n",
    "    dWx = np.matmul(X.T,dvt.T)\n",
    "    dBx = copy.deepcopy(dvt)\n",
    "    dWr = np.matmul(dvt, ht.T)\n",
    "    \n",
    "    \n",
    "    hts.append(ht)\n",
    "    yts.append(yt)"
   ]
  },
  {
   "cell_type": "code",
   "execution_count": 10,
   "metadata": {},
   "outputs": [
    {
     "data": {
      "text/plain": [
       "array([10, 20, 30, 40])"
      ]
     },
     "execution_count": 10,
     "metadata": {},
     "output_type": "execute_result"
    }
   ],
   "source": [
    "a = np.array([1,2,3,4])\n",
    "b = np.array([a for i in range(4)])\n",
    "\n",
    "np.dot(a,b)"
   ]
  },
  {
   "cell_type": "code",
   "execution_count": 11,
   "metadata": {},
   "outputs": [
    {
     "data": {
      "text/plain": [
       "array([[1, 2, 3, 4],\n",
       "       [1, 2, 3, 4],\n",
       "       [1, 2, 3, 4],\n",
       "       [1, 2, 3, 4]])"
      ]
     },
     "execution_count": 11,
     "metadata": {},
     "output_type": "execute_result"
    }
   ],
   "source": [
    "b"
   ]
  },
  {
   "cell_type": "code",
   "execution_count": null,
   "metadata": {
    "collapsed": true
   },
   "outputs": [],
   "source": []
  },
  {
   "cell_type": "code",
   "execution_count": null,
   "metadata": {
    "collapsed": true
   },
   "outputs": [],
   "source": []
  },
  {
   "cell_type": "code",
   "execution_count": 26,
   "metadata": {},
   "outputs": [],
   "source": [
    "import copy, numpy as np\n",
    "np.random.seed(0)\n",
    "\n",
    "# compute sigmoid nonlinearity\n",
    "def sigmoid(x):\n",
    "    output = 1/(1+np.exp(-x))\n",
    "    return output\n",
    "\n",
    "# convert output of sigmoid function to its derivative\n",
    "def sigmoid_derivative(output):\n",
    "    return output*(1-output)\n",
    "\n",
    "correct = 0\n",
    "has_carry = 0\n",
    "# training dataset generation\n",
    "int2binary = {}\n",
    "binary_dim = 8\n",
    "\n",
    "largest_number = pow(2,binary_dim)\n",
    "binary = np.unpackbits(\n",
    "    np.array([range(largest_number)],dtype=np.uint8).T,axis=1)\n",
    "for i in range(largest_number):\n",
    "    int2binary[i] = binary[i]\n",
    "\n",
    "\n",
    "# input variables\n",
    "alpha = 1\n",
    "input_dim = 2\n",
    "hidden_dim = 16\n",
    "output_dim = 1\n",
    "\n",
    "Wx = 2*np.random.random((input_dim,hidden_dim)) - 1\n",
    "Wy = 2*np.random.random((hidden_dim,output_dim)) - 1\n",
    "Wr = 2*np.random.random((hidden_dim,hidden_dim)) - 1\n",
    "\n",
    "Wx_update = np.zeros_like(Wx)\n",
    "Wy_update = np.zeros_like(Wy)\n",
    "Wr_update = np.zeros_like(Wr)\n",
    "\n",
    "# training logic\n",
    "for j in range(30000):\n",
    "    np.random.seed(2)\n",
    "    # generate a simple addition problem (a + b = c)\n",
    "    a_int = np.random.randint(largest_number/2) # int version\n",
    "    a = int2binary[a_int] # binary encoding\n",
    "\n",
    "    b_int = np.random.randint(largest_number/2) # int version\n",
    "    b = int2binary[b_int] # binary encoding\n",
    "\n",
    "    # true answer\n",
    "    c_int = a_int + b_int\n",
    "    c = int2binary[c_int]\n",
    "    \n",
    "    # where we'll store our best guess (binary encoded)\n",
    "    pred = np.zeros_like(c)\n",
    "\n",
    "    overallError = 0\n",
    "    \n",
    "    dyts = list()\n",
    "    hts = list()\n",
    "    hts.append(np.zeros(hidden_dim))\n",
    "    \n",
    "    # moving along the positions in the binary encoding\n",
    "    for position in range(binary_dim):\n",
    "        \n",
    "        # generate input and output\n",
    "        X = np.array([[a[binary_dim - position - 1],b[binary_dim - position - 1]]])\n",
    "        y = np.array([[c[binary_dim - position - 1]]]).T\n",
    "\n",
    "        # hidden layer (input ~+ prev_hidden)\n",
    "        ht = sigmoid(np.dot(X,Wx) + np.dot(hts[-1],Wr))\n",
    "\n",
    "        # output layer (new binary representation)\n",
    "        yt = sigmoid(np.dot(ht,Wy))\n",
    "\n",
    "        # did we miss?... if so, by how much?\n",
    "        yt_error = y - yt\n",
    "        dyts.append((yt_error)*sigmoid_derivative(yt))\n",
    "        overallError += np.abs(yt_error[0])\n",
    "    \n",
    "        # decode estimate so we can print it out\n",
    "        pred[binary_dim - position - 1] = np.round(yt[0][0])\n",
    "        \n",
    "        # store hidden layer so we can use it in the next timestep\n",
    "        hts.append(copy.deepcopy(ht))\n",
    "    \n",
    "    future_dht = np.zeros(hidden_dim)\n",
    "    \n",
    "    for position in range(binary_dim):\n",
    "        \n",
    "        X = np.array([[a[position],b[position]]])\n",
    "        ht = hts[-position-1]\n",
    "        prev_ht = hts[-position-2]\n",
    "        \n",
    "        # error at output layer\n",
    "        dyt = dyts[-position-1]\n",
    "        # error at hidden layer\n",
    "        dht = (future_dht.dot(Wr.T) + dyt.dot(Wy.T)) * sigmoid_derivative(ht)\n",
    "\n",
    "        # let's update all our weights so we can try again\n",
    "        Wy_update += np.atleast_2d(ht).T.dot(dyt)\n",
    "        Wr_update += np.atleast_2d(prev_ht).T.dot(dht)\n",
    "        Wx_update += X.T.dot(dht)\n",
    "        \n",
    "        future_dht = dht\n",
    "    \n",
    "\n",
    "    Wx += Wx_update * alpha\n",
    "    Wy += Wy_update * alpha\n",
    "    Wr += Wr_update * alpha    \n",
    "\n",
    "    Wx_update *= 0\n",
    "    Wy_update *= 0\n",
    "    Wr_update *= 0\n",
    "    \n",
    "    if np.array_equal(pred.T,c):\n",
    "        correct+=1\n",
    "    else:\n",
    "        if add_binary_nums(a_int,b_int):\n",
    "            has_carry+=1"
   ]
  },
  {
   "cell_type": "code",
   "execution_count": 29,
   "metadata": {},
   "outputs": [
    {
     "data": {
      "text/plain": [
       "0.9978666666666667"
      ]
     },
     "execution_count": 29,
     "metadata": {},
     "output_type": "execute_result"
    }
   ],
   "source": [
    "correct/30000"
   ]
  },
  {
   "cell_type": "code",
   "execution_count": 30,
   "metadata": {},
   "outputs": [
    {
     "data": {
      "text/plain": [
       "0"
      ]
     },
     "execution_count": 30,
     "metadata": {},
     "output_type": "execute_result"
    }
   ],
   "source": [
    "has_carry"
   ]
  },
  {
   "cell_type": "code",
   "execution_count": 165,
   "metadata": {},
   "outputs": [
    {
     "data": {
      "text/plain": [
       "6624"
      ]
     },
     "execution_count": 165,
     "metadata": {},
     "output_type": "execute_result"
    }
   ],
   "source": [
    "has_carry"
   ]
  },
  {
   "cell_type": "code",
   "execution_count": 166,
   "metadata": {},
   "outputs": [
    {
     "data": {
      "text/plain": [
       "99972"
      ]
     },
     "execution_count": 166,
     "metadata": {},
     "output_type": "execute_result"
    }
   ],
   "source": [
    " 100000 - correct"
   ]
  },
  {
   "cell_type": "code",
   "execution_count": 111,
   "metadata": {},
   "outputs": [
    {
     "data": {
      "text/plain": [
       "0"
      ]
     },
     "execution_count": 111,
     "metadata": {},
     "output_type": "execute_result"
    }
   ],
   "source": [
    "correct"
   ]
  },
  {
   "cell_type": "code",
   "execution_count": 17,
   "metadata": {},
   "outputs": [
    {
     "data": {
      "text/plain": [
       "(16, 1)"
      ]
     },
     "execution_count": 17,
     "metadata": {},
     "output_type": "execute_result"
    }
   ],
   "source": [
    "np.shape(dvt)"
   ]
  },
  {
   "cell_type": "code",
   "execution_count": 113,
   "metadata": {},
   "outputs": [
    {
     "data": {
      "text/plain": [
       "array([0, 1, 0, 1, 0, 1, 1, 0], dtype=uint8)"
      ]
     },
     "execution_count": 113,
     "metadata": {},
     "output_type": "execute_result"
    }
   ],
   "source": [
    "c"
   ]
  },
  {
   "cell_type": "code",
   "execution_count": 116,
   "metadata": {},
   "outputs": [
    {
     "data": {
      "text/plain": [
       "[array([[0.],\n",
       "        [0.],\n",
       "        [0.],\n",
       "        [0.],\n",
       "        [0.],\n",
       "        [0.],\n",
       "        [0.],\n",
       "        [0.],\n",
       "        [0.],\n",
       "        [0.],\n",
       "        [0.],\n",
       "        [0.],\n",
       "        [0.],\n",
       "        [0.],\n",
       "        [0.],\n",
       "        [0.]]), array([[0.5],\n",
       "        [0.5],\n",
       "        [0.5],\n",
       "        [0.5],\n",
       "        [0.5],\n",
       "        [0.5],\n",
       "        [0.5],\n",
       "        [0.5],\n",
       "        [0.5],\n",
       "        [0.5],\n",
       "        [0.5],\n",
       "        [0.5],\n",
       "        [0.5],\n",
       "        [0.5],\n",
       "        [0.5],\n",
       "        [0.5]]), array([[4.86589219e-014],\n",
       "        [5.05718173e-103],\n",
       "        [4.83333170e-026],\n",
       "        [1.86278440e-002],\n",
       "        [1.45276085e-058],\n",
       "        [2.84869319e-082],\n",
       "        [1.59283494e-017],\n",
       "        [1.00724998e-069],\n",
       "        [5.15986842e-013],\n",
       "        [1.00000000e+000],\n",
       "        [9.98425328e-001],\n",
       "        [4.82698686e-041],\n",
       "        [1.12751165e-023],\n",
       "        [1.53186513e-009],\n",
       "        [4.01697030e-033],\n",
       "        [9.72220663e-001]]), array([[5.14287000e-33],\n",
       "        [1.05315102e-26],\n",
       "        [3.85227305e-31],\n",
       "        [1.27351533e-12],\n",
       "        [3.84693732e-81],\n",
       "        [1.13912445e-36],\n",
       "        [1.39317847e-75],\n",
       "        [9.99972518e-01],\n",
       "        [2.60643217e-02],\n",
       "        [2.32436746e-05],\n",
       "        [1.00000000e+00],\n",
       "        [4.01388744e-21],\n",
       "        [9.92585520e-01],\n",
       "        [2.78361547e-12],\n",
       "        [7.26141552e-57],\n",
       "        [3.12564034e-13]]), array([[3.27265805e-01],\n",
       "        [9.99998658e-01],\n",
       "        [1.26629075e-11],\n",
       "        [4.14727110e-06],\n",
       "        [1.00000000e+00],\n",
       "        [1.00000000e+00],\n",
       "        [1.00000000e+00],\n",
       "        [7.92480196e-01],\n",
       "        [4.48233511e-13],\n",
       "        [2.65899770e-18],\n",
       "        [6.25931667e-30],\n",
       "        [5.52712985e-09],\n",
       "        [9.99998051e-01],\n",
       "        [8.83848423e-01],\n",
       "        [1.25270008e-03],\n",
       "        [1.70018364e-01]]), array([[8.59653876e-24],\n",
       "        [5.33708881e-64],\n",
       "        [9.27604453e-35],\n",
       "        [6.36563091e-39],\n",
       "        [1.00000000e+00],\n",
       "        [2.24235465e-35],\n",
       "        [1.00000000e+00],\n",
       "        [9.55261248e-93],\n",
       "        [9.36551819e-01],\n",
       "        [1.00000000e+00],\n",
       "        [7.83869622e-69],\n",
       "        [2.95415775e-40],\n",
       "        [1.63084732e-10],\n",
       "        [2.94386785e-04],\n",
       "        [1.00000000e+00],\n",
       "        [9.99003985e-01]]), array([[1.47514772e-016],\n",
       "        [3.77736522e-177],\n",
       "        [1.00000000e+000],\n",
       "        [4.73964321e-009],\n",
       "        [8.31200331e-156],\n",
       "        [3.98414776e-127],\n",
       "        [1.23497684e-101],\n",
       "        [1.17458552e-097],\n",
       "        [1.49757083e-018],\n",
       "        [1.00000000e+000],\n",
       "        [1.00000000e+000],\n",
       "        [3.01021712e-118],\n",
       "        [3.19404464e-036],\n",
       "        [6.04968618e-011],\n",
       "        [2.71229170e-028],\n",
       "        [8.90289609e-001]]), array([[2.82780573e-032],\n",
       "        [2.38212367e-032],\n",
       "        [3.49838877e-031],\n",
       "        [9.99989017e-001],\n",
       "        [2.45298662e-101],\n",
       "        [1.86407473e-061],\n",
       "        [3.54335489e-088],\n",
       "        [1.00000000e+000],\n",
       "        [5.42632673e-010],\n",
       "        [9.97293896e-001],\n",
       "        [1.00000000e+000],\n",
       "        [2.67599132e-008],\n",
       "        [9.33248992e-009],\n",
       "        [2.45926513e-011],\n",
       "        [2.05637651e-083],\n",
       "        [1.37363387e-021]]), array([[9.32227149e-03],\n",
       "        [7.73530292e-01],\n",
       "        [3.25354994e-01],\n",
       "        [7.18388375e-01],\n",
       "        [5.49777530e-13],\n",
       "        [6.06996319e-13],\n",
       "        [3.26338121e-09],\n",
       "        [3.18427736e-04],\n",
       "        [9.96992148e-01],\n",
       "        [1.00000000e+00],\n",
       "        [1.00000000e+00],\n",
       "        [1.06326175e-08],\n",
       "        [2.72716726e-01],\n",
       "        [2.93913261e-02],\n",
       "        [6.53550159e-23],\n",
       "        [2.84053747e-08]])]"
      ]
     },
     "execution_count": 116,
     "metadata": {},
     "output_type": "execute_result"
    }
   ],
   "source": [
    "hts"
   ]
  },
  {
   "cell_type": "code",
   "execution_count": 117,
   "metadata": {},
   "outputs": [
    {
     "data": {
      "text/plain": [
       "9"
      ]
     },
     "execution_count": 117,
     "metadata": {},
     "output_type": "execute_result"
    }
   ],
   "source": [
    "len(hts)"
   ]
  },
  {
   "cell_type": "code",
   "execution_count": null,
   "metadata": {
    "collapsed": true
   },
   "outputs": [],
   "source": []
  }
 ],
 "metadata": {
  "kernelspec": {
   "display_name": "Python 3",
   "language": "python",
   "name": "python3"
  },
  "language_info": {
   "codemirror_mode": {
    "name": "ipython",
    "version": 3
   },
   "file_extension": ".py",
   "mimetype": "text/x-python",
   "name": "python",
   "nbconvert_exporter": "python",
   "pygments_lexer": "ipython3",
   "version": "3.6.1"
  }
 },
 "nbformat": 4,
 "nbformat_minor": 2
}
