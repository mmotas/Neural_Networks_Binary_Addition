{
 "cells": [
  {
   "cell_type": "markdown",
   "metadata": {},
   "source": [
    "# Binary Addition\n",
    "> 8-bit Binary addition using Recurrent Neural Networks. \n",
    "\n",
    "### Rules of Binary Addition\n",
    "![](addition_rules.jpg)\n",
    "\n",
    "> Out network tries to learn these rules\n",
    "\n",
    "### Feed Forward Neural Network for Binary Addition\n",
    "\n",
    "![](RNN.jpg)"
   ]
  },
  {
   "cell_type": "code",
   "execution_count": 6,
   "metadata": {
    "collapsed": true
   },
   "outputs": [],
   "source": [
    "def add_binary_nums(x,y):\n",
    "        x=bin(x)[2:]\n",
    "        y=bin(y)[2:]\n",
    "        max_len = max(len(x), len(y))\n",
    "        flag = False\n",
    "        x = x.zfill(max_len)\n",
    "        y = y.zfill(max_len)\n",
    "\n",
    "        result = ''\n",
    "        carry = 0\n",
    "\n",
    "        for i in range(max_len-1,-1,-1):\n",
    "            r = carry\n",
    "            r += 1 if x[i] == '1' else 0\n",
    "            r += 1 if y[i] == '1' else 0\n",
    "            result = ('1' if r % 2 == 1 else '0') + result\n",
    "            carry = 0 if r < 2 else 1       \n",
    "\n",
    "        if carry !=0 : \n",
    "            flag=True\n",
    "            result = '1' + result\n",
    "\n",
    "        return flag"
   ]
  },
  {
   "cell_type": "code",
   "execution_count": 7,
   "metadata": {
    "collapsed": true
   },
   "outputs": [],
   "source": [
    "has_carry = 0\n",
    "def sigmoid(x):\n",
    "    output = 1/(1+np.exp(-x))\n",
    "    return output"
   ]
  },
  {
   "cell_type": "code",
   "execution_count": 8,
   "metadata": {
    "collapsed": true
   },
   "outputs": [],
   "source": [
    "import copy\n",
    "import numpy as np"
   ]
  },
  {
   "cell_type": "code",
   "execution_count": 9,
   "metadata": {
    "collapsed": true
   },
   "outputs": [],
   "source": [
    "def sigmoid(x):\n",
    "    output = 1/(1+np.exp(-x))\n",
    "    return output\n",
    "def sigmoid_derivative(output):\n",
    "    return output*(1-output)"
   ]
  },
  {
   "cell_type": "code",
   "execution_count": 10,
   "metadata": {
    "collapsed": true
   },
   "outputs": [],
   "source": [
    "correct = 0\n",
    "int2binary = {}\n",
    "binary_dim = 8"
   ]
  },
  {
   "cell_type": "code",
   "execution_count": 11,
   "metadata": {
    "collapsed": true
   },
   "outputs": [],
   "source": [
    "largest_number = pow(2,binary_dim)\n",
    "binary = np.unpackbits(\n",
    "    np.array([range(largest_number)],dtype=np.uint8).T,axis=1)\n",
    "for i in range(largest_number):\n",
    "    int2binary[i] = binary[i]"
   ]
  },
  {
   "cell_type": "code",
   "execution_count": 12,
   "metadata": {
    "collapsed": true
   },
   "outputs": [],
   "source": [
    "alpha = 0.1\n",
    "input_dim = 2\n",
    "hidden_dim = 16\n",
    "output_dim = 1"
   ]
  },
  {
   "cell_type": "code",
   "execution_count": 13,
   "metadata": {
    "collapsed": true
   },
   "outputs": [],
   "source": [
    "Wx = 2*np.random.random((input_dim,hidden_dim)) - 1\n",
    "Wy = 2*np.random.random((hidden_dim,output_dim)) - 1\n",
    "Wr = 2*np.random.random((hidden_dim,hidden_dim)) - 1\n",
    "\n",
    "Wx_update = np.zeros_like(Wx)\n",
    "Wy_update = np.zeros_like(Wy)\n",
    "Wr_update = np.zeros_like(Wr)"
   ]
  },
  {
   "cell_type": "code",
   "execution_count": 14,
   "metadata": {},
   "outputs": [],
   "source": [
    "correct = 0\n",
    "has_carry = 0\n",
    "\n",
    "for j in range(75000):\n",
    "    np.random.seed(2)\n",
    "    a_int = np.random.randint(largest_number/2) \n",
    "    a = int2binary[a_int]\n",
    "\n",
    "    b_int = np.random.randint(largest_number/2)\n",
    "    b = int2binary[b_int]\n",
    "\n",
    "    c_int = a_int + b_int\n",
    "    c = int2binary[c_int]\n",
    "    \n",
    "    pred = np.zeros_like(c)\n",
    "\n",
    "    overallError = 0\n",
    "    \n",
    "    dyts = list()\n",
    "    hts = list()\n",
    "    hts.append(np.zeros(hidden_dim))\n",
    "    \n",
    "    for position in range(binary_dim):\n",
    "        \n",
    "        X = np.array([[a[binary_dim - position - 1],b[binary_dim - position - 1]]])\n",
    "        y = np.array([[c[binary_dim - position - 1]]]).T\n",
    "\n",
    "        ht = sigmoid(np.dot(X,Wx) + np.dot(hts[-1],Wr))\n",
    "\n",
    "        yt = sigmoid(np.dot(ht,Wy))\n",
    "\n",
    "        yt_error = y - yt\n",
    "        dyts.append((yt_error)*sigmoid_derivative(yt))\n",
    "        overallError += np.abs(yt_error[0])\n",
    "    \n",
    "        pred[binary_dim - position - 1] = np.round(yt[0][0])\n",
    "        \n",
    "        hts.append(copy.deepcopy(ht))\n",
    "    \n",
    "    future_dht = np.zeros(hidden_dim)\n",
    "    \n",
    "    for position in range(binary_dim):\n",
    "        \n",
    "        X = np.array([[a[position],b[position]]])\n",
    "        ht = hts[-position-1]\n",
    "        prev_ht = hts[-position-2]\n",
    "        dyt = dyts[-position-1]\n",
    "        dht = (future_dht.dot(Wr.T) + dyt.dot(Wy.T)) * sigmoid_derivative(ht)\n",
    "        Wy_update += np.atleast_2d(ht).T.dot(dyt)\n",
    "        Wr_update += np.atleast_2d(prev_ht).T.dot(dht)\n",
    "        Wx_update += X.T.dot(dht)\n",
    "        \n",
    "        future_dht = dht\n",
    "    \n",
    "\n",
    "    Wx += Wx_update * alpha\n",
    "    Wy += Wy_update * alpha\n",
    "    Wr += Wr_update * alpha    \n",
    "\n",
    "    Wx_update *= 0\n",
    "    Wy_update *= 0\n",
    "    Wr_update *= 0\n",
    "    \n",
    "    if np.array_equal(pred.T,c):\n",
    "        correct+=1\n",
    "    else:\n",
    "        if add_binary_nums(a_int,b_int):\n",
    "            has_carry+=1"
   ]
  },
  {
   "cell_type": "markdown",
   "metadata": {},
   "source": [
    "### Accuracy"
   ]
  },
  {
   "cell_type": "code",
   "execution_count": 15,
   "metadata": {},
   "outputs": [
    {
     "data": {
      "text/plain": [
       "99.14933333333333"
      ]
     },
     "execution_count": 15,
     "metadata": {},
     "output_type": "execute_result"
    }
   ],
   "source": [
    "(correct/75000)*100"
   ]
  },
  {
   "cell_type": "markdown",
   "metadata": {},
   "source": [
    "### Number of samples that have an error and involve a carry term in their binary addition"
   ]
  },
  {
   "cell_type": "code",
   "execution_count": 16,
   "metadata": {},
   "outputs": [
    {
     "data": {
      "text/plain": [
       "0"
      ]
     },
     "execution_count": 16,
     "metadata": {},
     "output_type": "execute_result"
    }
   ],
   "source": [
    "has_carry"
   ]
  },
  {
   "cell_type": "markdown",
   "metadata": {
    "collapsed": true
   },
   "source": [
    "### Very Small Gradients"
   ]
  },
  {
   "cell_type": "code",
   "execution_count": 19,
   "metadata": {},
   "outputs": [
    {
     "data": {
      "text/plain": [
       "array([[ 2.21659339e-05,  1.44377290e-05, -6.42845105e-06,\n",
       "         3.57158139e-06,  1.46810873e-05, -4.04056167e-06,\n",
       "        -5.76981202e-06, -3.40344995e-06,  1.14527439e-05,\n",
       "         3.33269394e-07, -1.91304835e-06,  1.12321051e-05,\n",
       "        -1.11633949e-05,  1.22563900e-05,  2.86657948e-06,\n",
       "        -5.72074485e-06]])"
      ]
     },
     "execution_count": 19,
     "metadata": {},
     "output_type": "execute_result"
    }
   ],
   "source": [
    "dht"
   ]
  }
 ],
 "metadata": {
  "kernelspec": {
   "display_name": "Python 3",
   "language": "python",
   "name": "python3"
  },
  "language_info": {
   "codemirror_mode": {
    "name": "ipython",
    "version": 3
   },
   "file_extension": ".py",
   "mimetype": "text/x-python",
   "name": "python",
   "nbconvert_exporter": "python",
   "pygments_lexer": "ipython3",
   "version": "3.6.1"
  }
 },
 "nbformat": 4,
 "nbformat_minor": 2
}
