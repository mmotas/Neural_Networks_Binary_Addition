{
 "cells": [
  {
   "cell_type": "code",
   "execution_count": 1,
   "metadata": {
    "collapsed": true
   },
   "outputs": [],
   "source": [
    "def add_binary_nums(x,y):\n",
    "        x=bin(x)[2:]\n",
    "        y=bin(y)[2:]\n",
    "        max_len = max(len(x), len(y))\n",
    "        flag = False\n",
    "        x = x.zfill(max_len)\n",
    "        y = y.zfill(max_len)\n",
    "\n",
    "        result = ''\n",
    "        carry = 0\n",
    "\n",
    "        for i in range(max_len-1,-1,-1):\n",
    "            r = carry\n",
    "            r += 1 if x[i] == '1' else 0\n",
    "            r += 1 if y[i] == '1' else 0\n",
    "            result = ('1' if r % 2 == 1 else '0') + result\n",
    "            carry = 0 if r < 2 else 1       \n",
    "\n",
    "        if carry !=0 : \n",
    "            flag=True\n",
    "            result = '1' + result\n",
    "\n",
    "        return flag"
   ]
  },
  {
   "cell_type": "code",
   "execution_count": 2,
   "metadata": {
    "collapsed": true
   },
   "outputs": [],
   "source": [
    "has_carry = 0\n",
    "def sigmoid(x):\n",
    "    output = 1/(1+np.exp(-x))\n",
    "    return output"
   ]
  },
  {
   "cell_type": "code",
   "execution_count": 3,
   "metadata": {
    "collapsed": true
   },
   "outputs": [],
   "source": [
    "import copy\n",
    "import numpy as np"
   ]
  },
  {
   "cell_type": "code",
   "execution_count": 4,
   "metadata": {
    "collapsed": true
   },
   "outputs": [],
   "source": [
    "correct = 0\n",
    "int2binary = {}\n",
    "binary_dim = 8"
   ]
  },
  {
   "cell_type": "code",
   "execution_count": 5,
   "metadata": {
    "collapsed": true
   },
   "outputs": [],
   "source": [
    "largest_number = pow(2,binary_dim)\n",
    "binary = np.unpackbits(\n",
    "    np.array([range(largest_number)],dtype=np.uint8).T,axis=1)\n",
    "for i in range(largest_number):\n",
    "    int2binary[i] = binary[i]"
   ]
  },
  {
   "cell_type": "code",
   "execution_count": 6,
   "metadata": {
    "collapsed": true
   },
   "outputs": [],
   "source": [
    "alpha = 0.1\n",
    "input_dim = 2\n",
    "hidden_dim = 16\n",
    "output_dim = 1"
   ]
  },
  {
   "cell_type": "code",
   "execution_count": 7,
   "metadata": {
    "collapsed": true
   },
   "outputs": [],
   "source": [
    "Wx = 2*np.random.random((input_dim,hidden_dim)) - 1\n",
    "Wy = 2*np.random.random((hidden_dim,output_dim)) - 1\n",
    "Wr = 2*np.random.random((hidden_dim,hidden_dim)) - 1\n",
    "Bx = 2*np.random.random((hidden_dim,1)) - 1\n",
    "By = 2*np.random.random((1,1)) - 1"
   ]
  },
  {
   "cell_type": "code",
   "execution_count": 8,
   "metadata": {},
   "outputs": [
    {
     "ename": "ValueError",
     "evalue": "shapes (16,1) and (16,16) not aligned: 1 (dim 1) != 16 (dim 0)",
     "output_type": "error",
     "traceback": [
      "\u001b[1;31m---------------------------------------------------------------------------\u001b[0m",
      "\u001b[1;31mValueError\u001b[0m                                Traceback (most recent call last)",
      "\u001b[1;32m<ipython-input-8-a1ae59fce661>\u001b[0m in \u001b[0;36m<module>\u001b[1;34m()\u001b[0m\n\u001b[0;32m     24\u001b[0m         \u001b[0my\u001b[0m \u001b[1;33m=\u001b[0m \u001b[0mnp\u001b[0m\u001b[1;33m.\u001b[0m\u001b[0marray\u001b[0m\u001b[1;33m(\u001b[0m\u001b[1;33m[\u001b[0m\u001b[1;33m[\u001b[0m\u001b[0mc\u001b[0m\u001b[1;33m[\u001b[0m\u001b[0mbinary_dim\u001b[0m \u001b[1;33m-\u001b[0m \u001b[0mposition\u001b[0m \u001b[1;33m-\u001b[0m \u001b[1;36m1\u001b[0m\u001b[1;33m]\u001b[0m\u001b[1;33m]\u001b[0m\u001b[1;33m]\u001b[0m\u001b[1;33m)\u001b[0m\u001b[1;33m.\u001b[0m\u001b[0mT\u001b[0m\u001b[1;33m\u001b[0m\u001b[0m\n\u001b[0;32m     25\u001b[0m \u001b[1;33m\u001b[0m\u001b[0m\n\u001b[1;32m---> 26\u001b[1;33m         \u001b[0mht\u001b[0m \u001b[1;33m=\u001b[0m \u001b[0msigmoid\u001b[0m\u001b[1;33m(\u001b[0m\u001b[0mnp\u001b[0m\u001b[1;33m.\u001b[0m\u001b[0mdot\u001b[0m\u001b[1;33m(\u001b[0m\u001b[0mX\u001b[0m\u001b[1;33m,\u001b[0m\u001b[0mWx\u001b[0m\u001b[1;33m)\u001b[0m \u001b[1;33m+\u001b[0m \u001b[0mnp\u001b[0m\u001b[1;33m.\u001b[0m\u001b[0mdot\u001b[0m\u001b[1;33m(\u001b[0m\u001b[0mhts\u001b[0m\u001b[1;33m[\u001b[0m\u001b[1;33m-\u001b[0m\u001b[1;36m1\u001b[0m\u001b[1;33m]\u001b[0m\u001b[1;33m,\u001b[0m\u001b[0mWr\u001b[0m\u001b[1;33m)\u001b[0m \u001b[1;33m+\u001b[0m \u001b[0mBx\u001b[0m\u001b[1;33m)\u001b[0m\u001b[1;33m\u001b[0m\u001b[0m\n\u001b[0m\u001b[0;32m     27\u001b[0m \u001b[1;33m\u001b[0m\u001b[0m\n",
      "\u001b[1;31mValueError\u001b[0m: shapes (16,1) and (16,16) not aligned: 1 (dim 1) != 16 (dim 0)"
     ]
    }
   ],
   "source": [
    "for j in range(100000):\n",
    "    \n",
    "    # generate a simple addition problem (a + b = c)\n",
    "    a_int = np.random.randint(largest_number/2) # int version\n",
    "    a = int2binary[a_int] # binary encoding\n",
    "\n",
    "    b_int = np.random.randint(largest_number/2) # int version\n",
    "    b = int2binary[b_int] # binary encoding\n",
    "\n",
    "    # true answer\n",
    "    c_int = a_int + b_int\n",
    "    c = int2binary[c_int]\n",
    "    \n",
    "    # where we'll store our best guess (binary encoded)\n",
    "    d = np.zeros_like(c)\n",
    "\n",
    "    hts = [np.zeros((16,1))]\n",
    "    yts = []\n",
    "    \n",
    "    for position in range(binary_dim):\n",
    "        \n",
    "        # generate input and output\n",
    "        X = np.array([[a[binary_dim - position - 1],b[binary_dim - position - 1]]])\n",
    "        y = np.array([[c[binary_dim - position - 1]]]).T\n",
    "        \n",
    "        ht = sigmoid(np.dot(X,Wx) + np.dot(hts[-1],Wr) + Bx)\n",
    "        "
   ]
  },
  {
   "cell_type": "code",
   "execution_count": 9,
   "metadata": {
    "collapsed": true
   },
   "outputs": [],
   "source": [
    "a_int = np.random.randint(largest_number/2) # int version\n",
    "a = int2binary[a_int] # binary encoding\n",
    "\n",
    "b_int = np.random.randint(largest_number/2) # int version\n",
    "b = int2binary[b_int] # binary encoding\n",
    "\n",
    "# true answer\n",
    "c_int = a_int + b_int\n",
    "c = int2binary[c_int]\n",
    "\n",
    "# where we'll store our best guess (binary encoded)\n",
    "d = np.zeros_like(c)\n",
    "\n",
    "hts = [np.zeros((16,1))]\n",
    "yts = []\n",
    "\n",
    "for position in range(binary_dim):\n",
    "\n",
    "    # generate input and output\n",
    "    X = np.array([[a[binary_dim - position - 1],b[binary_dim - position - 1]]])\n",
    "    y = np.array([[c[binary_dim - position - 1]]]).T\n",
    "    #forward prop\n",
    "    ht = sigmoid(np.matmul(X,Wx) + np.matmul(hts[-1].T,Wr) + Bx.T)\n",
    "    yt = sigmoid(np.matmul(ht,Wy)+By)\n",
    "    ht = ht.T\n",
    "    \n",
    "    dyt = 2*(yt-y)\n",
    "    dzt = dyt*yt*(1-yt)\n",
    "    dWy = dzt*ht\n",
    "    dBy = copy.deepcopy(dzt)\n",
    "    dht = dzt*Wy\n",
    "    dvt = dht * ht * (1-ht)\n",
    "    dWx = np.matmul(X.T,dvt.T)\n",
    "    dBx = copy.deepcopy(dvt)\n",
    "    dWr = np.matmul(dvt, ht.T)\n",
    "    \n",
    "    \n",
    "    hts.append(ht)\n",
    "    yts.append(yt)"
   ]
  },
  {
   "cell_type": "code",
   "execution_count": 10,
   "metadata": {},
   "outputs": [
    {
     "data": {
      "text/plain": [
       "array([10, 20, 30, 40])"
      ]
     },
     "execution_count": 10,
     "metadata": {},
     "output_type": "execute_result"
    }
   ],
   "source": [
    "a = np.array([1,2,3,4])\n",
    "b = np.array([a for i in range(4)])\n",
    "\n",
    "np.dot(a,b)"
   ]
  },
  {
   "cell_type": "code",
   "execution_count": 11,
   "metadata": {},
   "outputs": [
    {
     "data": {
      "text/plain": [
       "array([[1, 2, 3, 4],\n",
       "       [1, 2, 3, 4],\n",
       "       [1, 2, 3, 4],\n",
       "       [1, 2, 3, 4]])"
      ]
     },
     "execution_count": 11,
     "metadata": {},
     "output_type": "execute_result"
    }
   ],
   "source": [
    "b"
   ]
  },
  {
   "cell_type": "code",
   "execution_count": null,
   "metadata": {
    "collapsed": true
   },
   "outputs": [],
   "source": []
  },
  {
   "cell_type": "code",
   "execution_count": null,
   "metadata": {
    "collapsed": true
   },
   "outputs": [],
   "source": []
  },
  {
   "cell_type": "code",
   "execution_count": 12,
   "metadata": {
    "collapsed": true
   },
   "outputs": [],
   "source": [
    "import copy, numpy as np\n",
    "np.random.seed(0)\n",
    "\n",
    "# compute sigmoid nonlinearity\n",
    "def sigmoid(x):\n",
    "    output = 1/(1+np.exp(-x))\n",
    "    return output\n",
    "\n",
    "# convert output of sigmoid function to its derivative\n",
    "def sigmoid_derivative(output):\n",
    "    return output*(1-output)\n",
    "\n",
    "correct = 0\n",
    "has_carry = 0\n",
    "# training dataset generation\n",
    "int2binary = {}\n",
    "binary_dim = 8\n",
    "\n",
    "largest_number = pow(2,binary_dim)\n",
    "binary = np.unpackbits(\n",
    "    np.array([range(largest_number)],dtype=np.uint8).T,axis=1)\n",
    "for i in range(largest_number):\n",
    "    int2binary[i] = binary[i]\n",
    "\n",
    "\n",
    "# input variables\n",
    "alpha = 1\n",
    "input_dim = 2\n",
    "hidden_dim = 16\n",
    "output_dim = 1\n",
    "\n",
    "Wx = 2*np.random.random((input_dim,hidden_dim)) - 1\n",
    "Wy = 2*np.random.random((hidden_dim,output_dim)) - 1\n",
    "Wr = 2*np.random.random((hidden_dim,hidden_dim)) - 1\n",
    "\n",
    "Wx_update = np.zeros_like(Wx)\n",
    "Wy_update = np.zeros_like(Wy)\n",
    "Wr_update = np.zeros_like(Wr)\n",
    "\n",
    "# training logic\n",
    "for j in range(75000):\n",
    "    np.random.seed(2)\n",
    "    # generate a simple addition problem (a + b = c)\n",
    "    a_int = np.random.randint(largest_number/2) # int version\n",
    "    a = int2binary[a_int] # binary encoding\n",
    "\n",
    "    b_int = np.random.randint(largest_number/2) # int version\n",
    "    b = int2binary[b_int] # binary encoding\n",
    "\n",
    "    # true answer\n",
    "    c_int = a_int + b_int\n",
    "    c = int2binary[c_int]\n",
    "    \n",
    "    # where we'll store our best guess (binary encoded)\n",
    "    pred = np.zeros_like(c)\n",
    "\n",
    "    overallError = 0\n",
    "    \n",
    "    dyts = list()\n",
    "    hts = list()\n",
    "    hts.append(np.zeros(hidden_dim))\n",
    "    \n",
    "    # moving along the positions in the binary encoding\n",
    "    for position in range(binary_dim):\n",
    "        \n",
    "        # generate input and output\n",
    "        X = np.array([[a[binary_dim - position - 1],b[binary_dim - position - 1]]])\n",
    "        y = np.array([[c[binary_dim - position - 1]]]).T\n",
    "\n",
    "        # hidden layer (input ~+ prev_hidden)\n",
    "        ht = sigmoid(np.dot(X,Wx) + np.dot(hts[-1],Wr))\n",
    "\n",
    "        # output layer (new binary representation)\n",
    "        yt = sigmoid(np.dot(ht,Wy))\n",
    "\n",
    "        # did we miss?... if so, by how much?\n",
    "        yt_error = y - yt\n",
    "        dyts.append((yt_error)*sigmoid_derivative(yt))\n",
    "        overallError += np.abs(yt_error[0])\n",
    "    \n",
    "        # decode estimate so we can print it out\n",
    "        pred[binary_dim - position - 1] = np.round(yt[0][0])\n",
    "        \n",
    "        # store hidden layer so we can use it in the next timestep\n",
    "        hts.append(copy.deepcopy(ht))\n",
    "    \n",
    "    future_dht = np.zeros(hidden_dim)\n",
    "    \n",
    "    for position in range(binary_dim):\n",
    "        \n",
    "        X = np.array([[a[position],b[position]]])\n",
    "        ht = hts[-position-1]\n",
    "        prev_ht = hts[-position-2]\n",
    "        \n",
    "        # error at output layer\n",
    "        dyt = dyts[-position-1]\n",
    "        # error at hidden layer\n",
    "        dht = (future_dht.dot(Wr.T) + dyt.dot(Wy.T)) * sigmoid_derivative(ht)\n",
    "\n",
    "        # let's update all our weights so we can try again\n",
    "        Wy_update += np.atleast_2d(ht).T.dot(dyt)\n",
    "        Wr_update += np.atleast_2d(prev_ht).T.dot(dht)\n",
    "        Wx_update += X.T.dot(dht)\n",
    "        \n",
    "        future_dht = dht\n",
    "    \n",
    "\n",
    "    Wx += Wx_update * alpha\n",
    "    Wy += Wy_update * alpha\n",
    "    Wr += Wr_update * alpha    \n",
    "\n",
    "    Wx_update *= 0\n",
    "    Wy_update *= 0\n",
    "    Wr_update *= 0\n",
    "    \n",
    "    if np.array_equal(pred.T,c):\n",
    "        correct+=1\n",
    "    else:\n",
    "        if add_binary_nums(a_int,b_int):\n",
    "            has_carry+=1"
   ]
  },
  {
   "cell_type": "code",
   "execution_count": 13,
   "metadata": {},
   "outputs": [
    {
     "data": {
      "text/plain": [
       "0.9991466666666666"
      ]
     },
     "execution_count": 13,
     "metadata": {},
     "output_type": "execute_result"
    }
   ],
   "source": [
    "correct/75000"
   ]
  },
  {
   "cell_type": "code",
   "execution_count": 14,
   "metadata": {},
   "outputs": [
    {
     "data": {
      "text/plain": [
       "0"
      ]
     },
     "execution_count": 14,
     "metadata": {},
     "output_type": "execute_result"
    }
   ],
   "source": [
    "has_carry"
   ]
  },
  {
   "cell_type": "code",
   "execution_count": 15,
   "metadata": {},
   "outputs": [
    {
     "data": {
      "text/plain": [
       "0"
      ]
     },
     "execution_count": 15,
     "metadata": {},
     "output_type": "execute_result"
    }
   ],
   "source": [
    "has_carry"
   ]
  },
  {
   "cell_type": "code",
   "execution_count": 16,
   "metadata": {},
   "outputs": [
    {
     "data": {
      "text/plain": [
       "array([[ 0.01626199,  0.02637438,  0.04063752,  0.02286483,  0.00862342,\n",
       "         0.01498595,  0.00929334,  0.03802824,  0.03633591,  0.01030256,\n",
       "         0.00857362,  0.02734708,  0.02516166,  0.01656837,  0.0167132 ,\n",
       "         0.01580723],\n",
       "       [ 0.00042742,  0.0006932 ,  0.00106808,  0.00060096,  0.00022665,\n",
       "         0.00039388,  0.00024426,  0.0009995 ,  0.00095502,  0.00027078,\n",
       "         0.00022534,  0.00071877,  0.00066133,  0.00043547,  0.00043928,\n",
       "         0.00041546],\n",
       "       [-0.00616432, -0.00999755, -0.01540417, -0.00866721, -0.00326882,\n",
       "        -0.00568062, -0.00352276, -0.01441509, -0.01377359, -0.00390532,\n",
       "        -0.00324994, -0.01036626, -0.00953785, -0.00628045, -0.00633535,\n",
       "        -0.00599193],\n",
       "       [ 0.0194811 ,  0.03159527,  0.04868183,  0.02739099,  0.01033045,\n",
       "         0.01795246,  0.01113298,  0.04555603,  0.04352871,  0.01234198,\n",
       "         0.01027079,  0.03276051,  0.03014248,  0.01984813,  0.02002162,\n",
       "         0.01893631],\n",
       "       [ 0.01319127,  0.02139415,  0.03296401,  0.0185473 ,  0.00699508,\n",
       "         0.01215617,  0.00753849,  0.03084743,  0.02947466,  0.00835714,\n",
       "         0.00695467,  0.02218318,  0.02041042,  0.01343979,  0.01355727,\n",
       "         0.01282237],\n",
       "       [ 0.01889637,  0.03064693,  0.04722064,  0.02656884,  0.01002038,\n",
       "         0.01741361,  0.01079882,  0.04418866,  0.04222219,  0.01197154,\n",
       "         0.00996251,  0.0317772 ,  0.02923775,  0.01925239,  0.01942067,\n",
       "         0.01836794],\n",
       "       [-0.0022241 , -0.00360715, -0.00555787, -0.00312715, -0.0011794 ,\n",
       "        -0.00204958, -0.00127102, -0.00520101, -0.00496955, -0.00140905,\n",
       "        -0.00117259, -0.00374018, -0.00344129, -0.00226601, -0.00228581,\n",
       "        -0.00216191],\n",
       "       [-0.00689917, -0.01118936, -0.01724052, -0.00970043, -0.0036585 ,\n",
       "        -0.00635781, -0.00394271, -0.01613353, -0.01541556, -0.00437087,\n",
       "        -0.00363737, -0.01160203, -0.01067486, -0.00702915, -0.00709059,\n",
       "        -0.00670624],\n",
       "       [ 0.00428942,  0.00695676,  0.01071895,  0.00603105,  0.0022746 ,\n",
       "         0.00395284,  0.0024513 ,  0.0100307 ,  0.00958431,  0.0027175 ,\n",
       "         0.00226146,  0.00721333,  0.00663688,  0.00437024,  0.00440843,\n",
       "         0.00416947],\n",
       "       [ 0.01335232,  0.02165535,  0.03336646,  0.01877375,  0.00708048,\n",
       "         0.01230459,  0.00763053,  0.03122404,  0.02983452,  0.00845918,\n",
       "         0.00703958,  0.02245401,  0.02065962,  0.01360388,  0.01372279,\n",
       "         0.01297892],\n",
       "       [-0.01036262, -0.01680654, -0.02589543, -0.01457015, -0.0054951 ,\n",
       "        -0.00954949, -0.00592199, -0.02423272, -0.02315432, -0.0065651 ,\n",
       "        -0.00546336, -0.01742637, -0.01603375, -0.01055786, -0.01065014,\n",
       "        -0.01007283],\n",
       "       [-0.01068809, -0.0173344 , -0.02670876, -0.01502777, -0.00566769,\n",
       "        -0.00984942, -0.00610799, -0.02499382, -0.02388156, -0.00677129,\n",
       "        -0.00563496, -0.0179737 , -0.01653735, -0.01088946, -0.01098464,\n",
       "        -0.0103892 ],\n",
       "       [ 0.00392417,  0.00636439,  0.00980622,  0.0055175 ,  0.00208091,\n",
       "         0.00361625,  0.00224257,  0.00917658,  0.0087682 ,  0.00248611,\n",
       "         0.0020689 ,  0.00659911,  0.00607175,  0.00399811,  0.00403305,\n",
       "         0.00381443],\n",
       "       [ 0.00555642,  0.00901164,  0.0138851 ,  0.00781249,  0.00294647,\n",
       "         0.00512042,  0.00317536,  0.01299355,  0.01241532,  0.0035202 ,\n",
       "         0.00292945,  0.009344  ,  0.00859728,  0.00566111,  0.00571059,\n",
       "         0.00540104],\n",
       "       [-0.016297  , -0.02643116, -0.040725  , -0.02291405, -0.00864199,\n",
       "        -0.01501821, -0.00931334, -0.0381101 , -0.03641413, -0.01032474,\n",
       "        -0.00859207, -0.02740595, -0.02521582, -0.01660404, -0.01674917,\n",
       "        -0.01584126],\n",
       "       [ 0.00071791,  0.00116434,  0.00179401,  0.0010094 ,  0.00038069,\n",
       "         0.00066158,  0.00041027,  0.00167881,  0.0016041 ,  0.00045482,\n",
       "         0.0003785 ,  0.00120728,  0.0011108 ,  0.00073144,  0.00073783,\n",
       "         0.00069783]])"
      ]
     },
     "execution_count": 16,
     "metadata": {},
     "output_type": "execute_result"
    }
   ],
   "source": [
    "dWr"
   ]
  },
  {
   "cell_type": "code",
   "execution_count": 37,
   "metadata": {},
   "outputs": [
    {
     "data": {
      "text/plain": [
       "74936"
      ]
     },
     "execution_count": 37,
     "metadata": {},
     "output_type": "execute_result"
    }
   ],
   "source": [
    "correct"
   ]
  },
  {
   "cell_type": "code",
   "execution_count": 38,
   "metadata": {},
   "outputs": [
    {
     "data": {
      "text/plain": [
       "(16, 1)"
      ]
     },
     "execution_count": 38,
     "metadata": {},
     "output_type": "execute_result"
    }
   ],
   "source": [
    "np.shape(dvt)"
   ]
  },
  {
   "cell_type": "code",
   "execution_count": 39,
   "metadata": {},
   "outputs": [
    {
     "data": {
      "text/plain": [
       "array([0, 0, 1, 1, 0, 1, 1, 1], dtype=uint8)"
      ]
     },
     "execution_count": 39,
     "metadata": {},
     "output_type": "execute_result"
    }
   ],
   "source": [
    "c"
   ]
  },
  {
   "cell_type": "code",
   "execution_count": 40,
   "metadata": {},
   "outputs": [
    {
     "data": {
      "text/plain": [
       "[array([0., 0., 0., 0., 0., 0., 0., 0., 0., 0., 0., 0., 0., 0., 0., 0.]),\n",
       " array([[0.22319218, 0.73563206, 0.38335928, 0.78573162, 0.84878664,\n",
       "         0.63998958, 0.55215944, 0.67863053, 0.14037539, 0.25566723,\n",
       "         0.16543481, 0.73471146, 0.59180901, 0.19258906, 0.37978856,\n",
       "         0.77002291]]),\n",
       " array([[0.43304557, 0.17410651, 0.68749324, 0.07774118, 0.98694741,\n",
       "         0.29324448, 0.92776091, 0.70748902, 0.07520501, 0.55230009,\n",
       "         0.81262783, 0.35410581, 0.88874736, 0.80827536, 0.21791857,\n",
       "         0.13497929]]),\n",
       " array([[0.92168186, 0.73446371, 0.57708055, 0.13158051, 0.80438323,\n",
       "         0.21481745, 0.06225238, 0.88031929, 0.10915868, 0.89455957,\n",
       "         0.17813619, 0.90897291, 0.50055165, 0.88242902, 0.47677208,\n",
       "         0.0648561 ]]),\n",
       " array([[0.04093638, 0.87199491, 0.91904017, 0.05218522, 0.92664667,\n",
       "         0.07611035, 0.04942959, 0.546895  , 0.94819746, 0.07527593,\n",
       "         0.04977585, 0.24380241, 0.05656054, 0.03231832, 0.68911976,\n",
       "         0.06573708]]),\n",
       " array([[0.3864905 , 0.25112874, 0.59612893, 0.08550521, 0.80797795,\n",
       "         0.73952167, 0.90722012, 0.26657852, 0.95345964, 0.57843768,\n",
       "         0.86690668, 0.08432598, 0.77133678, 0.60619678, 0.31355707,\n",
       "         0.04076515]]),\n",
       " array([[0.95860665, 0.53443153, 0.74830205, 0.0144836 , 0.09724947,\n",
       "         0.20857812, 0.05565792, 0.84019003, 0.93501596, 0.93679678,\n",
       "         0.8103937 , 0.71622677, 0.89646681, 0.97475291, 0.28971929,\n",
       "         0.01779704]]),\n",
       " array([[0.37855663, 0.90272932, 0.96792724, 0.00516379, 0.06068195,\n",
       "         0.02771532, 0.0062325 , 0.0703823 , 0.97051304, 0.90890059,\n",
       "         0.06279547, 0.4231437 , 0.05219955, 0.30459113, 0.95205847,\n",
       "         0.02469613]]),\n",
       " array([[0.04588188, 0.8666475 , 0.83532729, 0.04964055, 0.16934496,\n",
       "         0.16247352, 0.19418428, 0.07774805, 0.97331091, 0.87472644,\n",
       "         0.17902693, 0.08835149, 0.11937514, 0.07453695, 0.85225747,\n",
       "         0.06007727]])]"
      ]
     },
     "execution_count": 40,
     "metadata": {},
     "output_type": "execute_result"
    }
   ],
   "source": [
    "hts"
   ]
  },
  {
   "cell_type": "code",
   "execution_count": 41,
   "metadata": {},
   "outputs": [
    {
     "data": {
      "text/plain": [
       "9"
      ]
     },
     "execution_count": 41,
     "metadata": {},
     "output_type": "execute_result"
    }
   ],
   "source": [
    "len(hts)"
   ]
  },
  {
   "cell_type": "code",
   "execution_count": 43,
   "metadata": {},
   "outputs": [
    {
     "data": {
      "text/plain": [
       "array([0, 0, 1, 1, 0, 1, 1, 1], dtype=uint8)"
      ]
     },
     "execution_count": 43,
     "metadata": {},
     "output_type": "execute_result"
    }
   ],
   "source": [
    "pred"
   ]
  },
  {
   "cell_type": "code",
   "execution_count": null,
   "metadata": {
    "collapsed": true
   },
   "outputs": [],
   "source": []
  }
 ],
 "metadata": {
  "kernelspec": {
   "display_name": "Python 3",
   "language": "python",
   "name": "python3"
  },
  "language_info": {
   "codemirror_mode": {
    "name": "ipython",
    "version": 3
   },
   "file_extension": ".py",
   "mimetype": "text/x-python",
   "name": "python",
   "nbconvert_exporter": "python",
   "pygments_lexer": "ipython3",
   "version": "3.6.1"
  }
 },
 "nbformat": 4,
 "nbformat_minor": 2
}
