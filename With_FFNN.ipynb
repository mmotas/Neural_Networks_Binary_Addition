{
 "cells": [
  {
   "cell_type": "code",
   "execution_count": 114,
   "metadata": {
    "collapsed": true
   },
   "outputs": [],
   "source": [
    "import copy, numpy as np\n",
    "np.random.seed(0)"
   ]
  },
  {
   "cell_type": "code",
   "execution_count": 115,
   "metadata": {
    "collapsed": true
   },
   "outputs": [],
   "source": [
    "def sigmoid(x):\n",
    "    output = 1/(1+np.exp(-x))\n",
    "    return output"
   ]
  },
  {
   "cell_type": "code",
   "execution_count": 116,
   "metadata": {
    "collapsed": true
   },
   "outputs": [],
   "source": [
    "def sigmoid_derivative(activation):\n",
    "    return activation*(1-activation)"
   ]
  },
  {
   "cell_type": "code",
   "execution_count": 117,
   "metadata": {
    "collapsed": true
   },
   "outputs": [],
   "source": [
    "def loss_derivative(ycap,y):\n",
    "    return 2*(ycap-y)"
   ]
  },
  {
   "cell_type": "code",
   "execution_count": 118,
   "metadata": {},
   "outputs": [
    {
     "data": {
      "text/plain": [
       "(8, 6)"
      ]
     },
     "execution_count": 118,
     "metadata": {},
     "output_type": "execute_result"
    }
   ],
   "source": [
    "np.array([range(3)])\n",
    "np.shape(np.zeros((6,8)).T)"
   ]
  },
  {
   "cell_type": "code",
   "execution_count": 119,
   "metadata": {},
   "outputs": [],
   "source": [
    "int2binary = {}\n",
    "binary_dim = 8\n",
    "\n",
    "largest_number = pow(2,binary_dim)\n",
    "binary = np.unpackbits(\n",
    "    np.array([range(largest_number)],dtype=np.uint8).T,axis=1)\n",
    "for i in range(largest_number):\n",
    "    int2binary[i] = np.reshape(binary[i],(1,8))"
   ]
  },
  {
   "cell_type": "code",
   "execution_count": 120,
   "metadata": {},
   "outputs": [
    {
     "data": {
      "text/plain": [
       "(256, 8)"
      ]
     },
     "execution_count": 120,
     "metadata": {},
     "output_type": "execute_result"
    }
   ],
   "source": [
    "np.shape(binary)"
   ]
  },
  {
   "cell_type": "code",
   "execution_count": 121,
   "metadata": {},
   "outputs": [
    {
     "data": {
      "text/plain": [
       "array([[0, 0, 0, 0, 0, 0, 0, 1]], dtype=uint8)"
      ]
     },
     "execution_count": 121,
     "metadata": {},
     "output_type": "execute_result"
    }
   ],
   "source": [
    "int2binary[1]"
   ]
  },
  {
   "cell_type": "code",
   "execution_count": 122,
   "metadata": {
    "collapsed": true
   },
   "outputs": [],
   "source": [
    "#hyperparameters\n",
    "alpha=0.1\n",
    "in_dim = 16\n",
    "hidden_dim = 32\n",
    "out_dim = 8"
   ]
  },
  {
   "cell_type": "code",
   "execution_count": 123,
   "metadata": {
    "collapsed": true
   },
   "outputs": [],
   "source": [
    "Wx = np.random.random((in_dim,hidden_dim))\n",
    "bx = np.random.random((hidden_dim,1))\n",
    "Wy = np.random.random((hidden_dim, out_dim))\n",
    "by = np.random.random((out_dim,1))"
   ]
  },
  {
   "cell_type": "code",
   "execution_count": 130,
   "metadata": {},
   "outputs": [],
   "source": [
    "# generate a simple addition problem (a + b = c)\n",
    "a_int = np.random.randint(largest_number/2) # int version\n",
    "a = int2binary[a_int] # binary encoding\n",
    "\n",
    "b_int = np.random.randint(largest_number/2) # int version\n",
    "b = int2binary[b_int] # binary encoding\n",
    "ab = np.concatenate((a,b),axis=1)\n",
    "# true answer\n",
    "c_int = a_int + b_int\n",
    "c = int2binary[c_int]\n",
    "pred = np.zeros_like(c)\n",
    "Zx = np.matmul(ab,Wx)+bx.T\n",
    "Ax = 1/(1+np.exp(-Zx))\n",
    "Zy = np.matmul(Ax,Wy)+by.T\n",
    "Ay = 1/(1+np.exp(-Zy))\n",
    "loss = (c - Ay)**2\n",
    "\n",
    "#backpropagation\n",
    "\n",
    "dAy = 2*(Ay-c)\n",
    "dZy = dAy*Ay*(1-Ay)\n",
    "\n",
    "#in doubt\n",
    "dWy = np.matmul(Ax.T,dZy)\n",
    "dBy = copy.deepcopy(dZy)\n",
    "dAx = np.matmul(Wy,dZy)\n",
    "# dAx = dZy*Wy"
   ]
  },
  {
   "cell_type": "code",
   "execution_count": 131,
   "metadata": {},
   "outputs": [
    {
     "data": {
      "text/plain": [
       "array([[-1.16863148e-16,  2.82378436e-06, -1.60055855e-15,\n",
       "        -2.68684056e-15, -8.80271902e-12, -6.71728997e-14,\n",
       "        -2.37733050e-14,  3.02284200e-07],\n",
       "       [-1.15959896e-16,  2.80195893e-06, -1.58818761e-15,\n",
       "        -2.66607359e-15, -8.73468155e-12, -6.66537108e-14,\n",
       "        -2.35895578e-14,  2.99947803e-07],\n",
       "       [-1.16284505e-16,  2.80980251e-06, -1.59263346e-15,\n",
       "        -2.67353678e-15, -8.75913272e-12, -6.68402959e-14,\n",
       "        -2.36555925e-14,  3.00787453e-07],\n",
       "       [-1.16053226e-16,  2.80421408e-06, -1.58946586e-15,\n",
       "        -2.66821938e-15, -8.74171164e-12, -6.67073569e-14,\n",
       "        -2.36085438e-14,  3.00189215e-07],\n",
       "       [-1.17945958e-16,  2.84994850e-06, -1.61538874e-15,\n",
       "        -2.71173583e-15, -8.88428174e-12, -6.77952988e-14,\n",
       "        -2.39935796e-14,  3.05085054e-07],\n",
       "       [-1.16475694e-16,  2.81442224e-06, -1.59525198e-15,\n",
       "        -2.67793248e-15, -8.77353404e-12, -6.69501913e-14,\n",
       "        -2.36944858e-14,  3.01281992e-07],\n",
       "       [-1.19082147e-16,  2.87740241e-06, -1.63094998e-15,\n",
       "        -2.73785832e-15, -8.96986513e-12, -6.84483794e-14,\n",
       "        -2.42247128e-14,  3.08023976e-07],\n",
       "       [-1.19134538e-16,  2.87866834e-06, -1.63166752e-15,\n",
       "        -2.73906286e-15, -8.97381148e-12, -6.84784937e-14,\n",
       "        -2.42353706e-14,  3.08159493e-07],\n",
       "       [-1.14897922e-16,  2.77629827e-06, -1.57364280e-15,\n",
       "        -2.64165738e-15, -8.65468832e-12, -6.60432884e-14,\n",
       "        -2.33735218e-14,  2.97200846e-07],\n",
       "       [-1.18803754e-16,  2.87067556e-06, -1.62713711e-15,\n",
       "        -2.73145770e-15, -8.94889520e-12, -6.82883593e-14,\n",
       "        -2.41680797e-14,  3.07303871e-07],\n",
       "       [-1.18964471e-16,  2.87455898e-06, -1.62933829e-15,\n",
       "        -2.73515279e-15, -8.96100119e-12, -6.83807393e-14,\n",
       "        -2.42007741e-14,  3.07719589e-07],\n",
       "       [-1.17580520e-16,  2.84111834e-06, -1.61038368e-15,\n",
       "        -2.70333390e-15, -8.85675505e-12, -6.75852447e-14,\n",
       "        -2.39192389e-14,  3.04139791e-07],\n",
       "       [-1.16986609e-16,  2.82676757e-06, -1.60224948e-15,\n",
       "        -2.68967910e-15, -8.81201873e-12, -6.72438651e-14,\n",
       "        -2.37984205e-14,  3.02603551e-07],\n",
       "       [-1.18500735e-16,  2.86335366e-06, -1.62298696e-15,\n",
       "        -2.72449089e-15, -8.92607030e-12, -6.81141842e-14,\n",
       "        -2.41064370e-14,  3.06520067e-07],\n",
       "       [-1.17267038e-16,  2.83354363e-06, -1.60609023e-15,\n",
       "        -2.69612654e-15, -8.83314204e-12, -6.74050555e-14,\n",
       "        -2.38554678e-14,  3.03328923e-07],\n",
       "       [-1.19277482e-16,  2.88212232e-06, -1.63362528e-15,\n",
       "        -2.74234933e-15, -8.98457874e-12, -6.85606579e-14,\n",
       "        -2.42644495e-14,  3.08529239e-07],\n",
       "       [-1.16256414e-16,  2.80912376e-06, -1.59224873e-15,\n",
       "        -2.67289095e-15, -8.75701681e-12, -6.68241495e-14,\n",
       "        -2.36498781e-14,  3.00714793e-07],\n",
       "       [-1.17999115e-16,  2.85123293e-06, -1.61611677e-15,\n",
       "        -2.71295797e-15, -8.88828577e-12, -6.78258533e-14,\n",
       "        -2.40043932e-14,  3.05222551e-07],\n",
       "       [-1.17493619e-16,  2.83901854e-06, -1.60919349e-15,\n",
       "        -2.70133593e-15, -8.85020925e-12, -6.75352941e-14,\n",
       "        -2.39015608e-14,  3.03915009e-07],\n",
       "       [-1.14930052e-16,  2.77707463e-06, -1.57408285e-15,\n",
       "        -2.64239609e-15, -8.65710851e-12, -6.60617566e-14,\n",
       "        -2.33800580e-14,  2.97283955e-07],\n",
       "       [-1.19815123e-16,  2.89511343e-06, -1.64098882e-15,\n",
       "        -2.75471042e-15, -9.02507657e-12, -6.88696938e-14,\n",
       "        -2.43738210e-14,  3.09919929e-07],\n",
       "       [-1.12860973e-16,  2.72707912e-06, -1.54574474e-15,\n",
       "        -2.59482519e-15, -8.50125511e-12, -6.48724509e-14,\n",
       "        -2.29591482e-14,  2.91931970e-07],\n",
       "       [-1.16438018e-16,  2.81351188e-06, -1.59473598e-15,\n",
       "        -2.67706626e-15, -8.77069613e-12, -6.69285354e-14,\n",
       "        -2.36868215e-14,  3.01184539e-07],\n",
       "       [-1.15594710e-16,  2.79313489e-06, -1.58318602e-15,\n",
       "        -2.65767748e-15, -8.70717394e-12, -6.64438022e-14,\n",
       "        -2.35152685e-14,  2.99003195e-07],\n",
       "       [-1.17329320e-16,  2.83504856e-06, -1.60694325e-15,\n",
       "        -2.69755849e-15, -8.83783345e-12, -6.74408553e-14,\n",
       "        -2.38681378e-14,  3.03490025e-07],\n",
       "       [-1.16572534e-16,  2.81676221e-06, -1.59657831e-15,\n",
       "        -2.68015896e-15, -8.78082853e-12, -6.70058550e-14,\n",
       "        -2.37141858e-14,  3.01532484e-07],\n",
       "       [-1.19425341e-16,  2.88569506e-06, -1.63565036e-15,\n",
       "        -2.74574881e-15, -8.99571623e-12, -6.86456472e-14,\n",
       "        -2.42945282e-14,  3.08911699e-07],\n",
       "       [-1.18361708e-16,  2.85999433e-06, -1.62108285e-15,\n",
       "        -2.72129447e-15, -8.91559809e-12, -6.80342716e-14,\n",
       "        -2.40781550e-14,  3.06160453e-07],\n",
       "       [-1.15815726e-16,  2.79847532e-06, -1.58621305e-15,\n",
       "        -2.66275892e-15, -8.72382192e-12, -6.65708418e-14,\n",
       "        -2.35602294e-14,  2.99574885e-07],\n",
       "       [-1.19179185e-16,  2.87974716e-06, -1.63227901e-15,\n",
       "        -2.74008936e-15, -8.97717455e-12, -6.85041570e-14,\n",
       "        -2.42444531e-14,  3.08274980e-07],\n",
       "       [-1.18648854e-16,  2.86693269e-06, -1.62501560e-15,\n",
       "        -2.72789635e-15, -8.93722739e-12, -6.81993231e-14,\n",
       "        -2.41365687e-14,  3.06903200e-07],\n",
       "       [-1.17228569e-16,  2.83261409e-06, -1.60556336e-15,\n",
       "        -2.69524208e-15, -8.83024435e-12, -6.73829435e-14,\n",
       "        -2.38476420e-14,  3.03229417e-07]])"
      ]
     },
     "execution_count": 131,
     "metadata": {},
     "output_type": "execute_result"
    }
   ],
   "source": [
    "dWy"
   ]
  },
  {
   "cell_type": "code",
   "execution_count": 38,
   "metadata": {},
   "outputs": [
    {
     "data": {
      "text/plain": [
       "array([[0.74009753],\n",
       "       [0.68051448],\n",
       "       [0.62238443],\n",
       "       [0.7105284 ],\n",
       "       [0.20492369],\n",
       "       [0.34169811],\n",
       "       [0.67624248],\n",
       "       [0.87923476],\n",
       "       [0.54367805],\n",
       "       [0.28269965],\n",
       "       [0.03023526],\n",
       "       [0.71033683],\n",
       "       [0.0078841 ],\n",
       "       [0.37267907],\n",
       "       [0.53053721],\n",
       "       [0.92211146]])"
      ]
     },
     "execution_count": 38,
     "metadata": {},
     "output_type": "execute_result"
    }
   ],
   "source": [
    "for j in range(10000):\n",
    "    a_int = np.random.randint(largest_number/2) # int version\n",
    "    a = int2binary[a_int] # binary encoding\n",
    "\n",
    "    b_int = np.random.randint(largest_number/2) # int version\n",
    "    b = int2binary[b_int] # binary encoding\n",
    "    ab = np.concatenate((a,b),axis=1)\n",
    "    # true answer\n",
    "    c_int = a_int + b_int\n",
    "    c = int2binary[c_int]\n",
    "    pred = np.zeros_like(c)\n",
    "    Zx = np.matmul(ab,Wx)+bx.T\n",
    "    Ax = 1/(1+np.exp(-Zx))\n",
    "    Zy = np.matmul(Ax,Wy)+by.T\n",
    "    Ay = 1/(1+np.exp(-Zy))\n",
    "    \n",
    "    loss = \n",
    "    \n"
   ]
  },
  {
   "cell_type": "code",
   "execution_count": null,
   "metadata": {
    "collapsed": true
   },
   "outputs": [],
   "source": []
  }
 ],
 "metadata": {
  "kernelspec": {
   "display_name": "Python 3",
   "language": "python",
   "name": "python3"
  },
  "language_info": {
   "codemirror_mode": {
    "name": "ipython",
    "version": 3
   },
   "file_extension": ".py",
   "mimetype": "text/x-python",
   "name": "python",
   "nbconvert_exporter": "python",
   "pygments_lexer": "ipython3",
   "version": "3.6.1"
  }
 },
 "nbformat": 4,
 "nbformat_minor": 2
}
